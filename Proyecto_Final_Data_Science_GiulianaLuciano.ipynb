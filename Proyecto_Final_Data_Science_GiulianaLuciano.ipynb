{
  "cells": [
    {
      "cell_type": "markdown",
      "metadata": {
        "id": "view-in-github",
        "colab_type": "text"
      },
      "source": [
        "<a href=\"https://colab.research.google.com/github/Shulsgl/MachineLearning/blob/main/Proyecto_Final_Data_Science_GiulianaLuciano.ipynb\" target=\"_parent\"><img src=\"https://colab.research.google.com/assets/colab-badge.svg\" alt=\"Open In Colab\"/></a>"
      ]
    },
    {
      "cell_type": "markdown",
      "metadata": {
        "id": "DBtIPQ-j6Jhx"
      },
      "source": [
        "# Explorando las Tendencias de Ventas en un Supermercado: Una Historia de Datos\n"
      ]
    },
    {
      "cell_type": "markdown",
      "source": [
        "En un principio, mi interés era comprender la dinámica de las ventas en un supermercado y cómo esta situación se comparaba con otros establecimientos similares. Con un conjunto de datos detallando las ventas de productos en un supermercado, mi propósito era desentrañar las tendencias y patrones que podrían influir en la estrategia comercial.\n",
        "\n",
        "En mi búsqueda de conocimiento, utilicé el conjunto de datos de Ventas Supermarket, explorando las variaciones en las ventas a lo largo del tiempo, identificando productos destacados y analizando la relación entre segmentos de clientes, regiones geográficas y modos de envío. Este análisis inicial pretendía arrojar luz sobre las complejidades del mercado minorista.\n",
        "\n",
        "A medida que profundizaba en la exploración de datos, la historia del supermercado se volvía cada vez más intrigante. La dinámica de ventas revelaban tendencias inesperadas y desafíos comerciales que requerían una comprensión más profunda.\n",
        "\n",
        "En este viaje de descubrimiento, surgieron preguntas cruciales: ¿Cómo evolucionan las ventas a lo largo del tiempo? ¿Cuáles son los productos más vendidos y por qué? ¿Existen diferencias significativas en las ventas entre segmentos de clientes o regiones geográficas? ¿Cómo afecta el modo de envío al volumen de ventas?"
      ],
      "metadata": {
        "id": "ioAaN6FVcw5f"
      }
    },
    {
      "cell_type": "code",
      "execution_count": 1,
      "metadata": {
        "id": "jlEFXapr7QqR"
      },
      "outputs": [],
      "source": [
        "import pandas as pd\n",
        "url = 'https://raw.githubusercontent.com/Shulsgl/DataSets/main/Ventas%20supermarket.csv'\n",
        "df = pd.read_csv(\"https://raw.githubusercontent.com/Shulsgl/DataSets/main/Ventas%20supermarket.csv\", delimiter=\";\")"
      ]
    },
    {
      "cell_type": "markdown",
      "source": [
        "# Abstract\n",
        "\n",
        "Decidimos realizar este análisis en el cual, exploraremos un conjunto de datos que contiene información sobre las ventas de productos en un supermercado. Nuestro objetivo es comprender mejor las tendencias de ventas, los productos más populares y cualquier patrón que pueda ayudar a mejorar la estrategia comercial.\n"
      ],
      "metadata": {
        "id": "6_oOOwaGftM_"
      }
    },
    {
      "cell_type": "markdown",
      "source": [
        "# **Objetivo**\n",
        "El objetivo de este análisis de datos es comprender mejor las tendencias de ventas en un supermercado, identificar los productos más vendidos, analizar la variación de las ventas por segmento de clientes, evaluar las diferencias en las ventas por región geográfica y examinar el impacto del modo de envío en las ventas. A través de estas investigaciones, buscamos proporcionar recomendaciones basadas en insights observados para mejorar la estrategia comercial.\n",
        "\n",
        "# **Contexto Comercial**\n",
        "Este análisis se realiza en el contexto de un supermercado que opera en múltiples regiones geográficas y atiende a diversos segmentos de clientes. El supermercado vende una variedad de productos a través de diferentes modos de envío. El conocimiento de las tendencias de ventas y los factores que influyen en ellas es esencial para tomar decisiones estratégicas efectivas y mejorar la rentabilidad del negocio.\n",
        "\n",
        "# **Problema Comercial**\n",
        "El supermercado enfrenta varios desafíos comerciales que requieren soluciones informadas. Estos desafíos incluyen:\n",
        "\n",
        "* Identificar cuáles son los períodos de mayor y menor demanda para ajustar el\n",
        "inventario y las estrategias de marketing.\n",
        "\n",
        "* Determinar qué productos tienen un rendimiento destacado para centrar los esfuerzos promocionales y de marketing en ellos.\n",
        "\n",
        "* Comprender cómo se distribuyen las ventas entre los diferentes segmentos de clientes y si se pueden aprovechar oportunidades en segmentos específicos.\n",
        "\n",
        "* Evaluar si existen diferencias geográficas significativas en las ventas y si es necesario adaptar las estrategias comerciales en función de la región.\n",
        "\n",
        "* Analizar cómo el modo de envío influye en el volumen de ventas y si se debe optimizar la logística de entrega.\n",
        "\n",
        "# **Contexto Analítico**\n",
        "Para abordar estos problemas comerciales, se realizará un análisis de datos que incluirá visualizaciones y pruebas estadísticas. Se explorarán las tendencias de ventas a lo largo del tiempo, se identificarán los productos más vendidos, se analizará la variación de ventas por segmento de clientes, se evaluarán las diferencias en las ventas por región geográfica y se examinará el impacto del modo de envío en las ventas.\n",
        "\n",
        "Se formularon hipótesis específicas para cada pregunta de interés y se utilizarán pruebas estadísticas para validar o refutar estas hipótesis. Los resultados de las pruebas y las visualizaciones proporcionarán información crítica para tomar decisiones comerciales fundamentadas.\n",
        "\n",
        "# **Exploratory Data Analysis (EDA)**\n",
        "El análisis exploratorio de datos es un proceso crítico en este estudio. A través de visualizaciones y pruebas estadísticas, se analizarán los datos disponibles para responder a las preguntas de interés y comprender mejor las tendencias de ventas en el supermercado. Se realizarán las siguientes tareas:\n",
        "\n",
        "* Tendencia de ventas a lo largo del tiempo: Se representará la tendencia de ventas mensuales a lo largo del tiempo mediante un gráfico de líneas. Además, se realizará una prueba t de muestras independientes para comparar las ventas de diciembre con las de otros meses.\n",
        "\n",
        "* Productos más vendidos: Se identificarán los productos más vendidos y se mostrarán en un gráfico de barras horizontales. También se realizará un análisis de varianza (ANOVA) para comparar las ventas entre categorías de productos.\n",
        "\n",
        "* Variación de ventas por segmento de clientes: Se analizará la variación de ventas por segmento de clientes y se representará en un gráfico de barras. Se llevará a cabo una prueba de análisis de varianza (ANOVA) para evaluar las diferencias entre los segmentos.\n",
        "\n",
        "* Diferencia en ventas por región geográfica: Se calculará la diferencia en las ventas por región geográfica y se representará en un gráfico de barras.\n",
        "\n",
        "* Impacto del modo de envío en las ventas: Se evaluará el impacto del modo de envío en las ventas y se representará en un gráfico de barras.\n",
        "\n",
        "Estas exploraciones permitirán obtener insights relevantes para la toma de decisiones comerciales. Las recomendaciones se basarán en los resultados de este análisis y se presentarán en la sección de \"Recomendaciones\" una vez completado el EDA.\n",
        "\n",
        "\n"
      ],
      "metadata": {
        "id": "97r37jFbfxvm"
      }
    },
    {
      "cell_type": "markdown",
      "source": [
        "# Preguntas de interés:\n",
        "\n",
        "**¿Cuál es la tendencia de ventas a lo largo del tiempo?**\n",
        "\n",
        "***Hipótesis***: Las ventas aumentan durante la temporada navideña.\n",
        "- H0 (Hipótesis nula): No hay diferencia significativa en las ventas entre diciembre y otros meses.\n",
        "- H1 (Hipótesis alternativa): Las ventas en diciembre son significativamente mayores que en otros meses.\n",
        "\n",
        "**¿Cuáles son los productos más vendidos?**\n",
        "***Hipótesis***: Los productos de la categoría \"Electrónicos\" son los más vendidos.\n",
        "- H0: No hay diferencia significativa en las ventas entre categorías de productos.\n",
        "- H1: La categoría \"Electrónicos\" tiene ventas significativamente mayores que otras categorías.\n",
        "\n",
        "**¿Cómo varían las ventas según el segmento de clientes?**\n",
        "\n",
        "***Hipótesis:*** El segmento \"Corporativo\" tiene un volumen de ventas más alto que el segmento \"Consumidor\".\n",
        "- H0: No hay diferencia significativa en las ventas entre segmentos de clientes.\n",
        "- H1: El segmento \"Corporativo\" tiene ventas significativamente mayores que el segmento \"Consumidor\".\n",
        "\n",
        "**¿Existe una diferencia en las ventas según la región geográfica?**\n",
        "\n",
        "***Hipótesis:*** La región \"Oeste\" tiene ventas significativamente más bajas que la región \"Este\".\n",
        "- H0: No hay diferencia significativa en las ventas entre regiones geográficas.\n",
        "- H1: La región \"Oeste\" tiene ventas significativamente más bajas que la región \"Este\".\n",
        "\n",
        "**¿El modo de envío influye en el volumen de ventas?**\n",
        "\n",
        "***Hipótesis:*** El modo de envío \"Express\" genera mayores ventas que el modo \"Estándar\".\n",
        "- H0: No hay diferencia significativa en las ventas según el modo de envío.\n",
        "- H1: El modo de envío \"Express\" tiene ventas significativamente mayores que el modo \"Estándar\".\n"
      ],
      "metadata": {
        "id": "BR6zRNOGf3q1"
      }
    },
    {
      "cell_type": "code",
      "source": [
        "# Mostrar la tabla completa (las primeras filas)\n",
        "df.head(3)"
      ],
      "metadata": {
        "colab": {
          "base_uri": "https://localhost:8080/",
          "height": 144
        },
        "id": "7K4UQqEFgBMu",
        "outputId": "bf2c1d89-35a3-416e-ca09-f6263418823a"
      },
      "execution_count": 2,
      "outputs": [
        {
          "output_type": "execute_result",
          "data": {
            "text/plain": [
              "   Row ID        Order ID  Order Date Ship Date       Ship Mode Customer ID  \\\n",
              "0       1  CA-2018-126221  30/12/2018  5/1/2019  Standard Class    CC-12430   \n",
              "1       2  CA-2018-143259  30/12/2018  3/1/2019  Standard Class    PO-18865   \n",
              "2       3  CA-2018-143259  30/12/2018  3/1/2019  Standard Class    PO-18865   \n",
              "\n",
              "       Customer Name      Segment        Country           City     State  \\\n",
              "0        Chuck Clark  Home Office  United States       Columbus   Indiana   \n",
              "1  Patrick O'Donnell     Consumer  United States  New York City  New York   \n",
              "2  Patrick O'Donnell     Consumer  United States  New York City  New York   \n",
              "\n",
              "   Postal Code   Region       Product ID         Category Sub-Category  \\\n",
              "0      47201.0  Central  OFF-AP-10002457  Office Supplies   Appliances   \n",
              "1      10009.0     East  FUR-BO-10003441        Furniture    Bookcases   \n",
              "2      10009.0     East  TEC-PH-10004774       Technology       Phones   \n",
              "\n",
              "                                        Product Name    Sales  \n",
              "0  Eureka The Boss Plus 12-Amp Hard Box Upright V...  209.300  \n",
              "1  Bush Westfield Collection Bookcases, Fully Ass...  323.136  \n",
              "2                          Gear Head AU3700S Headset   90.930  "
            ],
            "text/html": [
              "\n",
              "  <div id=\"df-9a8e8561-03fa-4037-84f6-a0f7b98beea4\" class=\"colab-df-container\">\n",
              "    <div>\n",
              "<style scoped>\n",
              "    .dataframe tbody tr th:only-of-type {\n",
              "        vertical-align: middle;\n",
              "    }\n",
              "\n",
              "    .dataframe tbody tr th {\n",
              "        vertical-align: top;\n",
              "    }\n",
              "\n",
              "    .dataframe thead th {\n",
              "        text-align: right;\n",
              "    }\n",
              "</style>\n",
              "<table border=\"1\" class=\"dataframe\">\n",
              "  <thead>\n",
              "    <tr style=\"text-align: right;\">\n",
              "      <th></th>\n",
              "      <th>Row ID</th>\n",
              "      <th>Order ID</th>\n",
              "      <th>Order Date</th>\n",
              "      <th>Ship Date</th>\n",
              "      <th>Ship Mode</th>\n",
              "      <th>Customer ID</th>\n",
              "      <th>Customer Name</th>\n",
              "      <th>Segment</th>\n",
              "      <th>Country</th>\n",
              "      <th>City</th>\n",
              "      <th>State</th>\n",
              "      <th>Postal Code</th>\n",
              "      <th>Region</th>\n",
              "      <th>Product ID</th>\n",
              "      <th>Category</th>\n",
              "      <th>Sub-Category</th>\n",
              "      <th>Product Name</th>\n",
              "      <th>Sales</th>\n",
              "    </tr>\n",
              "  </thead>\n",
              "  <tbody>\n",
              "    <tr>\n",
              "      <th>0</th>\n",
              "      <td>1</td>\n",
              "      <td>CA-2018-126221</td>\n",
              "      <td>30/12/2018</td>\n",
              "      <td>5/1/2019</td>\n",
              "      <td>Standard Class</td>\n",
              "      <td>CC-12430</td>\n",
              "      <td>Chuck Clark</td>\n",
              "      <td>Home Office</td>\n",
              "      <td>United States</td>\n",
              "      <td>Columbus</td>\n",
              "      <td>Indiana</td>\n",
              "      <td>47201.0</td>\n",
              "      <td>Central</td>\n",
              "      <td>OFF-AP-10002457</td>\n",
              "      <td>Office Supplies</td>\n",
              "      <td>Appliances</td>\n",
              "      <td>Eureka The Boss Plus 12-Amp Hard Box Upright V...</td>\n",
              "      <td>209.300</td>\n",
              "    </tr>\n",
              "    <tr>\n",
              "      <th>1</th>\n",
              "      <td>2</td>\n",
              "      <td>CA-2018-143259</td>\n",
              "      <td>30/12/2018</td>\n",
              "      <td>3/1/2019</td>\n",
              "      <td>Standard Class</td>\n",
              "      <td>PO-18865</td>\n",
              "      <td>Patrick O'Donnell</td>\n",
              "      <td>Consumer</td>\n",
              "      <td>United States</td>\n",
              "      <td>New York City</td>\n",
              "      <td>New York</td>\n",
              "      <td>10009.0</td>\n",
              "      <td>East</td>\n",
              "      <td>FUR-BO-10003441</td>\n",
              "      <td>Furniture</td>\n",
              "      <td>Bookcases</td>\n",
              "      <td>Bush Westfield Collection Bookcases, Fully Ass...</td>\n",
              "      <td>323.136</td>\n",
              "    </tr>\n",
              "    <tr>\n",
              "      <th>2</th>\n",
              "      <td>3</td>\n",
              "      <td>CA-2018-143259</td>\n",
              "      <td>30/12/2018</td>\n",
              "      <td>3/1/2019</td>\n",
              "      <td>Standard Class</td>\n",
              "      <td>PO-18865</td>\n",
              "      <td>Patrick O'Donnell</td>\n",
              "      <td>Consumer</td>\n",
              "      <td>United States</td>\n",
              "      <td>New York City</td>\n",
              "      <td>New York</td>\n",
              "      <td>10009.0</td>\n",
              "      <td>East</td>\n",
              "      <td>TEC-PH-10004774</td>\n",
              "      <td>Technology</td>\n",
              "      <td>Phones</td>\n",
              "      <td>Gear Head AU3700S Headset</td>\n",
              "      <td>90.930</td>\n",
              "    </tr>\n",
              "  </tbody>\n",
              "</table>\n",
              "</div>\n",
              "    <div class=\"colab-df-buttons\">\n",
              "\n",
              "  <div class=\"colab-df-container\">\n",
              "    <button class=\"colab-df-convert\" onclick=\"convertToInteractive('df-9a8e8561-03fa-4037-84f6-a0f7b98beea4')\"\n",
              "            title=\"Convert this dataframe to an interactive table.\"\n",
              "            style=\"display:none;\">\n",
              "\n",
              "  <svg xmlns=\"http://www.w3.org/2000/svg\" height=\"24px\" viewBox=\"0 -960 960 960\">\n",
              "    <path d=\"M120-120v-720h720v720H120Zm60-500h600v-160H180v160Zm220 220h160v-160H400v160Zm0 220h160v-160H400v160ZM180-400h160v-160H180v160Zm440 0h160v-160H620v160ZM180-180h160v-160H180v160Zm440 0h160v-160H620v160Z\"/>\n",
              "  </svg>\n",
              "    </button>\n",
              "\n",
              "  <style>\n",
              "    .colab-df-container {\n",
              "      display:flex;\n",
              "      gap: 12px;\n",
              "    }\n",
              "\n",
              "    .colab-df-convert {\n",
              "      background-color: #E8F0FE;\n",
              "      border: none;\n",
              "      border-radius: 50%;\n",
              "      cursor: pointer;\n",
              "      display: none;\n",
              "      fill: #1967D2;\n",
              "      height: 32px;\n",
              "      padding: 0 0 0 0;\n",
              "      width: 32px;\n",
              "    }\n",
              "\n",
              "    .colab-df-convert:hover {\n",
              "      background-color: #E2EBFA;\n",
              "      box-shadow: 0px 1px 2px rgba(60, 64, 67, 0.3), 0px 1px 3px 1px rgba(60, 64, 67, 0.15);\n",
              "      fill: #174EA6;\n",
              "    }\n",
              "\n",
              "    .colab-df-buttons div {\n",
              "      margin-bottom: 4px;\n",
              "    }\n",
              "\n",
              "    [theme=dark] .colab-df-convert {\n",
              "      background-color: #3B4455;\n",
              "      fill: #D2E3FC;\n",
              "    }\n",
              "\n",
              "    [theme=dark] .colab-df-convert:hover {\n",
              "      background-color: #434B5C;\n",
              "      box-shadow: 0px 1px 3px 1px rgba(0, 0, 0, 0.15);\n",
              "      filter: drop-shadow(0px 1px 2px rgba(0, 0, 0, 0.3));\n",
              "      fill: #FFFFFF;\n",
              "    }\n",
              "  </style>\n",
              "\n",
              "    <script>\n",
              "      const buttonEl =\n",
              "        document.querySelector('#df-9a8e8561-03fa-4037-84f6-a0f7b98beea4 button.colab-df-convert');\n",
              "      buttonEl.style.display =\n",
              "        google.colab.kernel.accessAllowed ? 'block' : 'none';\n",
              "\n",
              "      async function convertToInteractive(key) {\n",
              "        const element = document.querySelector('#df-9a8e8561-03fa-4037-84f6-a0f7b98beea4');\n",
              "        const dataTable =\n",
              "          await google.colab.kernel.invokeFunction('convertToInteractive',\n",
              "                                                    [key], {});\n",
              "        if (!dataTable) return;\n",
              "\n",
              "        const docLinkHtml = 'Like what you see? Visit the ' +\n",
              "          '<a target=\"_blank\" href=https://colab.research.google.com/notebooks/data_table.ipynb>data table notebook</a>'\n",
              "          + ' to learn more about interactive tables.';\n",
              "        element.innerHTML = '';\n",
              "        dataTable['output_type'] = 'display_data';\n",
              "        await google.colab.output.renderOutput(dataTable, element);\n",
              "        const docLink = document.createElement('div');\n",
              "        docLink.innerHTML = docLinkHtml;\n",
              "        element.appendChild(docLink);\n",
              "      }\n",
              "    </script>\n",
              "  </div>\n",
              "\n",
              "\n",
              "<div id=\"df-37ef7c36-174e-4ee8-b7c1-bbe35787c9c7\">\n",
              "  <button class=\"colab-df-quickchart\" onclick=\"quickchart('df-37ef7c36-174e-4ee8-b7c1-bbe35787c9c7')\"\n",
              "            title=\"Suggest charts\"\n",
              "            style=\"display:none;\">\n",
              "\n",
              "<svg xmlns=\"http://www.w3.org/2000/svg\" height=\"24px\"viewBox=\"0 0 24 24\"\n",
              "     width=\"24px\">\n",
              "    <g>\n",
              "        <path d=\"M19 3H5c-1.1 0-2 .9-2 2v14c0 1.1.9 2 2 2h14c1.1 0 2-.9 2-2V5c0-1.1-.9-2-2-2zM9 17H7v-7h2v7zm4 0h-2V7h2v10zm4 0h-2v-4h2v4z\"/>\n",
              "    </g>\n",
              "</svg>\n",
              "  </button>\n",
              "\n",
              "<style>\n",
              "  .colab-df-quickchart {\n",
              "      --bg-color: #E8F0FE;\n",
              "      --fill-color: #1967D2;\n",
              "      --hover-bg-color: #E2EBFA;\n",
              "      --hover-fill-color: #174EA6;\n",
              "      --disabled-fill-color: #AAA;\n",
              "      --disabled-bg-color: #DDD;\n",
              "  }\n",
              "\n",
              "  [theme=dark] .colab-df-quickchart {\n",
              "      --bg-color: #3B4455;\n",
              "      --fill-color: #D2E3FC;\n",
              "      --hover-bg-color: #434B5C;\n",
              "      --hover-fill-color: #FFFFFF;\n",
              "      --disabled-bg-color: #3B4455;\n",
              "      --disabled-fill-color: #666;\n",
              "  }\n",
              "\n",
              "  .colab-df-quickchart {\n",
              "    background-color: var(--bg-color);\n",
              "    border: none;\n",
              "    border-radius: 50%;\n",
              "    cursor: pointer;\n",
              "    display: none;\n",
              "    fill: var(--fill-color);\n",
              "    height: 32px;\n",
              "    padding: 0;\n",
              "    width: 32px;\n",
              "  }\n",
              "\n",
              "  .colab-df-quickchart:hover {\n",
              "    background-color: var(--hover-bg-color);\n",
              "    box-shadow: 0 1px 2px rgba(60, 64, 67, 0.3), 0 1px 3px 1px rgba(60, 64, 67, 0.15);\n",
              "    fill: var(--button-hover-fill-color);\n",
              "  }\n",
              "\n",
              "  .colab-df-quickchart-complete:disabled,\n",
              "  .colab-df-quickchart-complete:disabled:hover {\n",
              "    background-color: var(--disabled-bg-color);\n",
              "    fill: var(--disabled-fill-color);\n",
              "    box-shadow: none;\n",
              "  }\n",
              "\n",
              "  .colab-df-spinner {\n",
              "    border: 2px solid var(--fill-color);\n",
              "    border-color: transparent;\n",
              "    border-bottom-color: var(--fill-color);\n",
              "    animation:\n",
              "      spin 1s steps(1) infinite;\n",
              "  }\n",
              "\n",
              "  @keyframes spin {\n",
              "    0% {\n",
              "      border-color: transparent;\n",
              "      border-bottom-color: var(--fill-color);\n",
              "      border-left-color: var(--fill-color);\n",
              "    }\n",
              "    20% {\n",
              "      border-color: transparent;\n",
              "      border-left-color: var(--fill-color);\n",
              "      border-top-color: var(--fill-color);\n",
              "    }\n",
              "    30% {\n",
              "      border-color: transparent;\n",
              "      border-left-color: var(--fill-color);\n",
              "      border-top-color: var(--fill-color);\n",
              "      border-right-color: var(--fill-color);\n",
              "    }\n",
              "    40% {\n",
              "      border-color: transparent;\n",
              "      border-right-color: var(--fill-color);\n",
              "      border-top-color: var(--fill-color);\n",
              "    }\n",
              "    60% {\n",
              "      border-color: transparent;\n",
              "      border-right-color: var(--fill-color);\n",
              "    }\n",
              "    80% {\n",
              "      border-color: transparent;\n",
              "      border-right-color: var(--fill-color);\n",
              "      border-bottom-color: var(--fill-color);\n",
              "    }\n",
              "    90% {\n",
              "      border-color: transparent;\n",
              "      border-bottom-color: var(--fill-color);\n",
              "    }\n",
              "  }\n",
              "</style>\n",
              "\n",
              "  <script>\n",
              "    async function quickchart(key) {\n",
              "      const quickchartButtonEl =\n",
              "        document.querySelector('#' + key + ' button');\n",
              "      quickchartButtonEl.disabled = true;  // To prevent multiple clicks.\n",
              "      quickchartButtonEl.classList.add('colab-df-spinner');\n",
              "      try {\n",
              "        const charts = await google.colab.kernel.invokeFunction(\n",
              "            'suggestCharts', [key], {});\n",
              "      } catch (error) {\n",
              "        console.error('Error during call to suggestCharts:', error);\n",
              "      }\n",
              "      quickchartButtonEl.classList.remove('colab-df-spinner');\n",
              "      quickchartButtonEl.classList.add('colab-df-quickchart-complete');\n",
              "    }\n",
              "    (() => {\n",
              "      let quickchartButtonEl =\n",
              "        document.querySelector('#df-37ef7c36-174e-4ee8-b7c1-bbe35787c9c7 button');\n",
              "      quickchartButtonEl.style.display =\n",
              "        google.colab.kernel.accessAllowed ? 'block' : 'none';\n",
              "    })();\n",
              "  </script>\n",
              "</div>\n",
              "\n",
              "    </div>\n",
              "  </div>\n"
            ],
            "application/vnd.google.colaboratory.intrinsic+json": {
              "type": "dataframe",
              "variable_name": "df",
              "repr_error": "'str' object has no attribute 'empty'"
            }
          },
          "metadata": {},
          "execution_count": 2
        }
      ]
    },
    {
      "cell_type": "code",
      "source": [
        "df.tail(3)"
      ],
      "metadata": {
        "colab": {
          "base_uri": "https://localhost:8080/",
          "height": 144
        },
        "id": "MEtrfIP2gEWx",
        "outputId": "40e8c006-c4e7-42eb-db5d-936548c7ff75"
      },
      "execution_count": 3,
      "outputs": [
        {
          "output_type": "execute_result",
          "data": {
            "text/plain": [
              "      Row ID        Order ID Order Date Ship Date       Ship Mode Customer ID  \\\n",
              "3255    3256  CA-2018-151750   1/1/2018  5/1/2018  Standard Class    JM-15250   \n",
              "3256    3257  CA-2018-151750   1/1/2018  5/1/2018  Standard Class    JM-15250   \n",
              "3257    3258  CA-2018-151750   1/1/2018  5/1/2018  Standard Class    JM-15250   \n",
              "\n",
              "     Customer Name   Segment        Country        City  State  Postal Code  \\\n",
              "3255  Janet Martin  Consumer  United States  Huntsville  Texas      77340.0   \n",
              "3256  Janet Martin  Consumer  United States  Huntsville  Texas      77340.0   \n",
              "3257  Janet Martin  Consumer  United States  Huntsville  Texas      77340.0   \n",
              "\n",
              "       Region       Product ID         Category Sub-Category  \\\n",
              "3255  Central  OFF-BI-10000301  Office Supplies      Binders   \n",
              "3256  Central  OFF-BI-10000343  Office Supplies      Binders   \n",
              "3257  Central  OFF-AP-10004708  Office Supplies   Appliances   \n",
              "\n",
              "                                           Product Name   Sales  \n",
              "3255                             GBC Instant Report Kit   6.470  \n",
              "3256  Pressboard Covers with Storage Hooks, 9 1/2\" x...  13.748  \n",
              "3257  Fellowes Superior 10 Outlet Split Surge Protector  15.224  "
            ],
            "text/html": [
              "\n",
              "  <div id=\"df-df802a2e-4ce6-4fc5-9fd8-038a0467b74e\" class=\"colab-df-container\">\n",
              "    <div>\n",
              "<style scoped>\n",
              "    .dataframe tbody tr th:only-of-type {\n",
              "        vertical-align: middle;\n",
              "    }\n",
              "\n",
              "    .dataframe tbody tr th {\n",
              "        vertical-align: top;\n",
              "    }\n",
              "\n",
              "    .dataframe thead th {\n",
              "        text-align: right;\n",
              "    }\n",
              "</style>\n",
              "<table border=\"1\" class=\"dataframe\">\n",
              "  <thead>\n",
              "    <tr style=\"text-align: right;\">\n",
              "      <th></th>\n",
              "      <th>Row ID</th>\n",
              "      <th>Order ID</th>\n",
              "      <th>Order Date</th>\n",
              "      <th>Ship Date</th>\n",
              "      <th>Ship Mode</th>\n",
              "      <th>Customer ID</th>\n",
              "      <th>Customer Name</th>\n",
              "      <th>Segment</th>\n",
              "      <th>Country</th>\n",
              "      <th>City</th>\n",
              "      <th>State</th>\n",
              "      <th>Postal Code</th>\n",
              "      <th>Region</th>\n",
              "      <th>Product ID</th>\n",
              "      <th>Category</th>\n",
              "      <th>Sub-Category</th>\n",
              "      <th>Product Name</th>\n",
              "      <th>Sales</th>\n",
              "    </tr>\n",
              "  </thead>\n",
              "  <tbody>\n",
              "    <tr>\n",
              "      <th>3255</th>\n",
              "      <td>3256</td>\n",
              "      <td>CA-2018-151750</td>\n",
              "      <td>1/1/2018</td>\n",
              "      <td>5/1/2018</td>\n",
              "      <td>Standard Class</td>\n",
              "      <td>JM-15250</td>\n",
              "      <td>Janet Martin</td>\n",
              "      <td>Consumer</td>\n",
              "      <td>United States</td>\n",
              "      <td>Huntsville</td>\n",
              "      <td>Texas</td>\n",
              "      <td>77340.0</td>\n",
              "      <td>Central</td>\n",
              "      <td>OFF-BI-10000301</td>\n",
              "      <td>Office Supplies</td>\n",
              "      <td>Binders</td>\n",
              "      <td>GBC Instant Report Kit</td>\n",
              "      <td>6.470</td>\n",
              "    </tr>\n",
              "    <tr>\n",
              "      <th>3256</th>\n",
              "      <td>3257</td>\n",
              "      <td>CA-2018-151750</td>\n",
              "      <td>1/1/2018</td>\n",
              "      <td>5/1/2018</td>\n",
              "      <td>Standard Class</td>\n",
              "      <td>JM-15250</td>\n",
              "      <td>Janet Martin</td>\n",
              "      <td>Consumer</td>\n",
              "      <td>United States</td>\n",
              "      <td>Huntsville</td>\n",
              "      <td>Texas</td>\n",
              "      <td>77340.0</td>\n",
              "      <td>Central</td>\n",
              "      <td>OFF-BI-10000343</td>\n",
              "      <td>Office Supplies</td>\n",
              "      <td>Binders</td>\n",
              "      <td>Pressboard Covers with Storage Hooks, 9 1/2\" x...</td>\n",
              "      <td>13.748</td>\n",
              "    </tr>\n",
              "    <tr>\n",
              "      <th>3257</th>\n",
              "      <td>3258</td>\n",
              "      <td>CA-2018-151750</td>\n",
              "      <td>1/1/2018</td>\n",
              "      <td>5/1/2018</td>\n",
              "      <td>Standard Class</td>\n",
              "      <td>JM-15250</td>\n",
              "      <td>Janet Martin</td>\n",
              "      <td>Consumer</td>\n",
              "      <td>United States</td>\n",
              "      <td>Huntsville</td>\n",
              "      <td>Texas</td>\n",
              "      <td>77340.0</td>\n",
              "      <td>Central</td>\n",
              "      <td>OFF-AP-10004708</td>\n",
              "      <td>Office Supplies</td>\n",
              "      <td>Appliances</td>\n",
              "      <td>Fellowes Superior 10 Outlet Split Surge Protector</td>\n",
              "      <td>15.224</td>\n",
              "    </tr>\n",
              "  </tbody>\n",
              "</table>\n",
              "</div>\n",
              "    <div class=\"colab-df-buttons\">\n",
              "\n",
              "  <div class=\"colab-df-container\">\n",
              "    <button class=\"colab-df-convert\" onclick=\"convertToInteractive('df-df802a2e-4ce6-4fc5-9fd8-038a0467b74e')\"\n",
              "            title=\"Convert this dataframe to an interactive table.\"\n",
              "            style=\"display:none;\">\n",
              "\n",
              "  <svg xmlns=\"http://www.w3.org/2000/svg\" height=\"24px\" viewBox=\"0 -960 960 960\">\n",
              "    <path d=\"M120-120v-720h720v720H120Zm60-500h600v-160H180v160Zm220 220h160v-160H400v160Zm0 220h160v-160H400v160ZM180-400h160v-160H180v160Zm440 0h160v-160H620v160ZM180-180h160v-160H180v160Zm440 0h160v-160H620v160Z\"/>\n",
              "  </svg>\n",
              "    </button>\n",
              "\n",
              "  <style>\n",
              "    .colab-df-container {\n",
              "      display:flex;\n",
              "      gap: 12px;\n",
              "    }\n",
              "\n",
              "    .colab-df-convert {\n",
              "      background-color: #E8F0FE;\n",
              "      border: none;\n",
              "      border-radius: 50%;\n",
              "      cursor: pointer;\n",
              "      display: none;\n",
              "      fill: #1967D2;\n",
              "      height: 32px;\n",
              "      padding: 0 0 0 0;\n",
              "      width: 32px;\n",
              "    }\n",
              "\n",
              "    .colab-df-convert:hover {\n",
              "      background-color: #E2EBFA;\n",
              "      box-shadow: 0px 1px 2px rgba(60, 64, 67, 0.3), 0px 1px 3px 1px rgba(60, 64, 67, 0.15);\n",
              "      fill: #174EA6;\n",
              "    }\n",
              "\n",
              "    .colab-df-buttons div {\n",
              "      margin-bottom: 4px;\n",
              "    }\n",
              "\n",
              "    [theme=dark] .colab-df-convert {\n",
              "      background-color: #3B4455;\n",
              "      fill: #D2E3FC;\n",
              "    }\n",
              "\n",
              "    [theme=dark] .colab-df-convert:hover {\n",
              "      background-color: #434B5C;\n",
              "      box-shadow: 0px 1px 3px 1px rgba(0, 0, 0, 0.15);\n",
              "      filter: drop-shadow(0px 1px 2px rgba(0, 0, 0, 0.3));\n",
              "      fill: #FFFFFF;\n",
              "    }\n",
              "  </style>\n",
              "\n",
              "    <script>\n",
              "      const buttonEl =\n",
              "        document.querySelector('#df-df802a2e-4ce6-4fc5-9fd8-038a0467b74e button.colab-df-convert');\n",
              "      buttonEl.style.display =\n",
              "        google.colab.kernel.accessAllowed ? 'block' : 'none';\n",
              "\n",
              "      async function convertToInteractive(key) {\n",
              "        const element = document.querySelector('#df-df802a2e-4ce6-4fc5-9fd8-038a0467b74e');\n",
              "        const dataTable =\n",
              "          await google.colab.kernel.invokeFunction('convertToInteractive',\n",
              "                                                    [key], {});\n",
              "        if (!dataTable) return;\n",
              "\n",
              "        const docLinkHtml = 'Like what you see? Visit the ' +\n",
              "          '<a target=\"_blank\" href=https://colab.research.google.com/notebooks/data_table.ipynb>data table notebook</a>'\n",
              "          + ' to learn more about interactive tables.';\n",
              "        element.innerHTML = '';\n",
              "        dataTable['output_type'] = 'display_data';\n",
              "        await google.colab.output.renderOutput(dataTable, element);\n",
              "        const docLink = document.createElement('div');\n",
              "        docLink.innerHTML = docLinkHtml;\n",
              "        element.appendChild(docLink);\n",
              "      }\n",
              "    </script>\n",
              "  </div>\n",
              "\n",
              "\n",
              "<div id=\"df-ca4cd09e-94e3-4ad0-b1d9-f5f2f5117c56\">\n",
              "  <button class=\"colab-df-quickchart\" onclick=\"quickchart('df-ca4cd09e-94e3-4ad0-b1d9-f5f2f5117c56')\"\n",
              "            title=\"Suggest charts\"\n",
              "            style=\"display:none;\">\n",
              "\n",
              "<svg xmlns=\"http://www.w3.org/2000/svg\" height=\"24px\"viewBox=\"0 0 24 24\"\n",
              "     width=\"24px\">\n",
              "    <g>\n",
              "        <path d=\"M19 3H5c-1.1 0-2 .9-2 2v14c0 1.1.9 2 2 2h14c1.1 0 2-.9 2-2V5c0-1.1-.9-2-2-2zM9 17H7v-7h2v7zm4 0h-2V7h2v10zm4 0h-2v-4h2v4z\"/>\n",
              "    </g>\n",
              "</svg>\n",
              "  </button>\n",
              "\n",
              "<style>\n",
              "  .colab-df-quickchart {\n",
              "      --bg-color: #E8F0FE;\n",
              "      --fill-color: #1967D2;\n",
              "      --hover-bg-color: #E2EBFA;\n",
              "      --hover-fill-color: #174EA6;\n",
              "      --disabled-fill-color: #AAA;\n",
              "      --disabled-bg-color: #DDD;\n",
              "  }\n",
              "\n",
              "  [theme=dark] .colab-df-quickchart {\n",
              "      --bg-color: #3B4455;\n",
              "      --fill-color: #D2E3FC;\n",
              "      --hover-bg-color: #434B5C;\n",
              "      --hover-fill-color: #FFFFFF;\n",
              "      --disabled-bg-color: #3B4455;\n",
              "      --disabled-fill-color: #666;\n",
              "  }\n",
              "\n",
              "  .colab-df-quickchart {\n",
              "    background-color: var(--bg-color);\n",
              "    border: none;\n",
              "    border-radius: 50%;\n",
              "    cursor: pointer;\n",
              "    display: none;\n",
              "    fill: var(--fill-color);\n",
              "    height: 32px;\n",
              "    padding: 0;\n",
              "    width: 32px;\n",
              "  }\n",
              "\n",
              "  .colab-df-quickchart:hover {\n",
              "    background-color: var(--hover-bg-color);\n",
              "    box-shadow: 0 1px 2px rgba(60, 64, 67, 0.3), 0 1px 3px 1px rgba(60, 64, 67, 0.15);\n",
              "    fill: var(--button-hover-fill-color);\n",
              "  }\n",
              "\n",
              "  .colab-df-quickchart-complete:disabled,\n",
              "  .colab-df-quickchart-complete:disabled:hover {\n",
              "    background-color: var(--disabled-bg-color);\n",
              "    fill: var(--disabled-fill-color);\n",
              "    box-shadow: none;\n",
              "  }\n",
              "\n",
              "  .colab-df-spinner {\n",
              "    border: 2px solid var(--fill-color);\n",
              "    border-color: transparent;\n",
              "    border-bottom-color: var(--fill-color);\n",
              "    animation:\n",
              "      spin 1s steps(1) infinite;\n",
              "  }\n",
              "\n",
              "  @keyframes spin {\n",
              "    0% {\n",
              "      border-color: transparent;\n",
              "      border-bottom-color: var(--fill-color);\n",
              "      border-left-color: var(--fill-color);\n",
              "    }\n",
              "    20% {\n",
              "      border-color: transparent;\n",
              "      border-left-color: var(--fill-color);\n",
              "      border-top-color: var(--fill-color);\n",
              "    }\n",
              "    30% {\n",
              "      border-color: transparent;\n",
              "      border-left-color: var(--fill-color);\n",
              "      border-top-color: var(--fill-color);\n",
              "      border-right-color: var(--fill-color);\n",
              "    }\n",
              "    40% {\n",
              "      border-color: transparent;\n",
              "      border-right-color: var(--fill-color);\n",
              "      border-top-color: var(--fill-color);\n",
              "    }\n",
              "    60% {\n",
              "      border-color: transparent;\n",
              "      border-right-color: var(--fill-color);\n",
              "    }\n",
              "    80% {\n",
              "      border-color: transparent;\n",
              "      border-right-color: var(--fill-color);\n",
              "      border-bottom-color: var(--fill-color);\n",
              "    }\n",
              "    90% {\n",
              "      border-color: transparent;\n",
              "      border-bottom-color: var(--fill-color);\n",
              "    }\n",
              "  }\n",
              "</style>\n",
              "\n",
              "  <script>\n",
              "    async function quickchart(key) {\n",
              "      const quickchartButtonEl =\n",
              "        document.querySelector('#' + key + ' button');\n",
              "      quickchartButtonEl.disabled = true;  // To prevent multiple clicks.\n",
              "      quickchartButtonEl.classList.add('colab-df-spinner');\n",
              "      try {\n",
              "        const charts = await google.colab.kernel.invokeFunction(\n",
              "            'suggestCharts', [key], {});\n",
              "      } catch (error) {\n",
              "        console.error('Error during call to suggestCharts:', error);\n",
              "      }\n",
              "      quickchartButtonEl.classList.remove('colab-df-spinner');\n",
              "      quickchartButtonEl.classList.add('colab-df-quickchart-complete');\n",
              "    }\n",
              "    (() => {\n",
              "      let quickchartButtonEl =\n",
              "        document.querySelector('#df-ca4cd09e-94e3-4ad0-b1d9-f5f2f5117c56 button');\n",
              "      quickchartButtonEl.style.display =\n",
              "        google.colab.kernel.accessAllowed ? 'block' : 'none';\n",
              "    })();\n",
              "  </script>\n",
              "</div>\n",
              "\n",
              "    </div>\n",
              "  </div>\n"
            ],
            "application/vnd.google.colaboratory.intrinsic+json": {
              "type": "dataframe",
              "repr_error": "'str' object has no attribute 'empty'"
            }
          },
          "metadata": {},
          "execution_count": 3
        }
      ]
    },
    {
      "cell_type": "markdown",
      "metadata": {
        "id": "RseJFTDdKANe"
      },
      "source": [
        "## 1 Tratamiento del Dataset"
      ]
    },
    {
      "cell_type": "code",
      "execution_count": 4,
      "metadata": {
        "id": "FtfzbAwp6Z-J"
      },
      "outputs": [],
      "source": [
        "import pandas as pd\n",
        "import matplotlib.pyplot as plt\n",
        "\n",
        "# Cargar el conjunto de datos desde la URL\n",
        "url = 'https://raw.githubusercontent.com/Shulsgl/DataSets/main/Ventas%20supermarket.csv'\n",
        "df = pd.read_csv(url, delimiter=\";\", dtype='object')\n",
        "\n",
        "# Convertir la columna 'Sales' a tipo numérico\n",
        "df['Sales'] = pd.to_numeric(df['Sales'].str.replace(',', '.'), errors='coerce')\n",
        "\n",
        "# Convertir la columna 'Order Date' a tipo datetime\n",
        "df['Order Date'] = pd.to_datetime(df['Order Date'], dayfirst=True)\n",
        "\n",
        "# Calcular las ventas mensuales\n",
        "ventas_mensuales = df.resample('M', on='Order Date')['Sales'].sum()\n",
        "\n",
        "import scipy.stats as stats"
      ]
    },
    {
      "cell_type": "markdown",
      "metadata": {
        "id": "9b1ftossHbjW"
      },
      "source": [
        "### 1.1 Decidimos establecer categorias para las ventas con el fin de poder clasificarlas y poder predecir con mas presición.\n"
      ]
    },
    {
      "cell_type": "code",
      "source": [
        "# Definir los límites para las categorías de ventas\n",
        "limite_chicas = 100\n",
        "limite_medianas = 500\n",
        "limite_altas = 1000\n",
        "\n",
        "# Crear una nueva columna \"Categoria_Ventas\" basada en las condiciones\n",
        "df['Categoria_Ventas'] = pd.cut(df['Sales'],\n",
        "                                bins=[-float(\"inf\"), limite_chicas, limite_medianas, limite_altas, float(\"inf\")],\n",
        "                                labels=['Ventas Chicas', 'Ventas Medianas', 'Ventas Altas', 'Ventas Muy Altas'])\n",
        "\n",
        "# Mostrar las primeras filas del DataFrame con la nueva columna\n",
        "print(df[['Sales', 'Categoria_Ventas']].head(10))"
      ],
      "metadata": {
        "colab": {
          "base_uri": "https://localhost:8080/"
        },
        "id": "RmpZRSF7fHgx",
        "outputId": "28a914b4-96e7-4793-a9d5-d52e638998d8"
      },
      "execution_count": 5,
      "outputs": [
        {
          "output_type": "stream",
          "name": "stdout",
          "text": [
            "     Sales Categoria_Ventas\n",
            "0  209.300  Ventas Medianas\n",
            "1  323.136  Ventas Medianas\n",
            "2   90.930    Ventas Chicas\n",
            "3   52.776    Ventas Chicas\n",
            "4   13.904    Ventas Chicas\n",
            "5   20.720    Ventas Chicas\n",
            "6    3.024    Ventas Chicas\n",
            "7  393.568  Ventas Medianas\n",
            "8  302.376  Ventas Medianas\n",
            "9    6.030    Ventas Chicas\n"
          ]
        }
      ]
    },
    {
      "cell_type": "code",
      "source": [
        "import pandas as pd\n",
        "import numpy as np\n",
        "\n",
        "# Supongamos que 'df' es tu DataFrame\n",
        "\n",
        "# Definir los límites para las categorías de ventas\n",
        "limite_chicas = 10\n",
        "limite_medianas = 100\n",
        "limite_altas = 400\n",
        "\n",
        "# Crear una nueva columna \"Categoria_Ventas\" basada en las condiciones\n",
        "df['Categoria_Ventas'] = pd.cut(df['Sales'],\n",
        "                                bins=[-float(\"inf\"), limite_chicas, limite_medianas, limite_altas, float(\"inf\")],\n",
        "                                labels=['Ventas Chicas', 'Ventas Medianas', 'Ventas Altas', 'Ventas Muy Altas'])\n",
        "\n",
        "# Ajustar las cantidades para que sean iguales\n",
        "# Obtener las clases existentes\n",
        "clases_existentes = df['Categoria_Ventas'].unique()\n",
        "\n",
        "# Inicializar un DataFrame vacío para almacenar datos ajustados\n",
        "df_ajustado = pd.DataFrame()\n",
        "\n",
        "# Ajustar cada clase para tener la misma cantidad\n",
        "for clase in clases_existentes:\n",
        "    # Filtrar datos para una clase específica\n",
        "    datos_clase = df[df['Categoria_Ventas'] == clase]\n",
        "\n",
        "    # Calcular cuántos elementos deben mantenerse para igualar las cantidades\n",
        "    cantidad_objetivo = min(len(datos_clase), len(df) // len(clases_existentes))\n",
        "\n",
        "    # Seleccionar aleatoriamente la cantidad necesaria de elementos para esta clase\n",
        "    datos_muestreados = datos_clase.sample(cantidad_objetivo, replace=True)\n",
        "\n",
        "    # Agregar los datos muestreados al DataFrame ajustado\n",
        "    df_ajustado = pd.concat([df_ajustado, datos_muestreados])\n",
        "\n",
        "# Actualizar el DataFrame original con los datos ajustados\n",
        "df = df_ajustado.copy()\n",
        "\n",
        "# Mostrar las primeras filas del DataFrame con la nueva columna\n",
        "print(df[['Sales', 'Categoria_Ventas']].head(10))\n",
        "\n",
        "# Mostrar las cantidades ajustadas\n",
        "conteo_clases = df['Categoria_Ventas'].value_counts()\n",
        "print(conteo_clases)\n"
      ],
      "metadata": {
        "colab": {
          "base_uri": "https://localhost:8080/"
        },
        "id": "3D8OaIbWfI0q",
        "outputId": "c1a01c34-6232-4b4b-90c8-c426db16cf63"
      },
      "execution_count": 6,
      "outputs": [
        {
          "output_type": "stream",
          "name": "stdout",
          "text": [
            "        Sales Categoria_Ventas\n",
            "623   191.058     Ventas Altas\n",
            "1128  128.744     Ventas Altas\n",
            "3185  359.976     Ventas Altas\n",
            "2749  383.840     Ventas Altas\n",
            "2255  215.592     Ventas Altas\n",
            "1912  234.950     Ventas Altas\n",
            "1087  348.560     Ventas Altas\n",
            "865   307.136     Ventas Altas\n",
            "623   191.058     Ventas Altas\n",
            "1774  102.930     Ventas Altas\n",
            "Ventas Medianas     651\n",
            "Ventas Altas        651\n",
            "Ventas Chicas       443\n",
            "Ventas Muy Altas    443\n",
            "Name: Categoria_Ventas, dtype: int64\n"
          ]
        }
      ]
    },
    {
      "cell_type": "markdown",
      "metadata": {
        "id": "hvYXpK_MIToo"
      },
      "source": [
        "### 1.2 Realizamos un recuento de categoria y creamos un grafico para poder visualizarlo."
      ]
    },
    {
      "cell_type": "code",
      "execution_count": 7,
      "metadata": {
        "colab": {
          "base_uri": "https://localhost:8080/",
          "height": 414
        },
        "id": "v-Z9E_M63mp7",
        "outputId": "c5b0a798-118b-4bac-dcf8-9715bb6f75a8"
      },
      "outputs": [
        {
          "output_type": "display_data",
          "data": {
            "text/plain": [
              "<Figure size 500x300 with 1 Axes>"
            ],
            "image/png": "[encoded data removed]"
          },
          "metadata": {}
        }
      ],
      "source": [
        "# Calcular los recuentos de cada categoría\n",
        "conteo_categorias = df['Categoria_Ventas'].value_counts()\n",
        "\n",
        "# Crear un gráfico de barras de los recuentos de categorías\n",
        "plt.figure(figsize=(5, 3))\n",
        "plt.bar(conteo_categorias.index, conteo_categorias.values)\n",
        "plt.title('Distribución de Ventas por Categoría')\n",
        "plt.xlabel('Categoría de Ventas')\n",
        "plt.ylabel('Recuento')\n",
        "plt.xticks(rotation=45)\n",
        "plt.show()"
      ]
    },
    {
      "cell_type": "code",
      "source": [
        "conteo_clases = df['Categoria_Ventas'].value_counts()\n",
        "print(conteo_clases)\n"
      ],
      "metadata": {
        "colab": {
          "base_uri": "https://localhost:8080/"
        },
        "id": "m-gCu-j4yTMG",
        "outputId": "3c986543-2cf5-4438-cd86-94a14fd88df1"
      },
      "execution_count": 8,
      "outputs": [
        {
          "output_type": "stream",
          "name": "stdout",
          "text": [
            "Ventas Medianas     651\n",
            "Ventas Altas        651\n",
            "Ventas Chicas       443\n",
            "Ventas Muy Altas    443\n",
            "Name: Categoria_Ventas, dtype: int64\n"
          ]
        }
      ]
    },
    {
      "cell_type": "markdown",
      "source": [
        "## 2 Exploratory Data Analysis (EDA)\n",
        "\n",
        "### 2.1 Analizaqmos las ventas a lo largo del tiempo a traves de un grafico de lineas.  \n",
        "\n",
        "Realizar una prueba estadística para determinar si las ventas en diciembre son significativamente diferentes de las de otros meses.\n",
        "\n"
      ],
      "metadata": {
        "id": "FlCnvHh6pc1E"
      }
    },
    {
      "cell_type": "code",
      "source": [
        "# 1) Tendencia de ventas a lo largo del tiempo (Gráfico de Línea)\n",
        "plt.figure(figsize=(12, 6))\n",
        "plt.plot(ventas_mensuales.index, ventas_mensuales.values, marker='o', linestyle='-', color='b')\n",
        "plt.title('Tendencia de Ventas Mensuales a lo largo del Tiempo')\n",
        "plt.xlabel('Fecha')\n",
        "plt.ylabel('Ventas ($)')\n",
        "plt.grid(True)\n",
        "plt.show()\n",
        "\n",
        "# Resumen numérico: Ventas totales\n",
        "ventas_totales = ventas_mensuales.sum()\n",
        "print(f'Ventas Totales: ${ventas_totales:.2f}')\n",
        "\n",
        "# Filtrar las ventas de diciembre y de otros meses\n",
        "ventas_diciembre = df[df['Order Date'].dt.month == 12]['Sales']\n",
        "ventas_otros_meses = df[df['Order Date'].dt.month != 12]['Sales']\n",
        "\n",
        "# Realizar un test t de muestras independientes\n",
        "t_statistic, p_value = stats.ttest_ind(ventas_diciembre, ventas_otros_meses, equal_var=False)\n",
        "\n",
        "alpha = 0.05\n",
        "if p_value < alpha:\n",
        "    print('Conclusión: Rechazamos la hipótesis nula.')\n",
        "    print('Las ventas en diciembre son significativamente mayores que en otros meses.')\n",
        "else:\n",
        "    print('Conclusión: No podemos rechazar la hipótesis nula.')\n",
        "    print('No hay evidencia suficiente para afirmar que las ventas en diciembre son significativamente mayores que en otros meses.')"
      ],
      "metadata": {
        "colab": {
          "base_uri": "https://localhost:8080/",
          "height": 616
        },
        "id": "NtklVAY6grMT",
        "outputId": "a1702374-0181-4d94-9f72-21a15b8317c7"
      },
      "execution_count": 9,
      "outputs": [
        {
          "output_type": "display_data",
          "data": {
            "text/plain": [
              "<Figure size 1200x600 with 1 Axes>"
            ],
            "image/png": "[encoded data removed]"
          },
          "metadata": {}
        },
        {
          "output_type": "stream",
          "name": "stdout",
          "text": [
            "Ventas Totales: $721351.32\n",
            "Conclusión: Rechazamos la hipótesis nula.\n",
            "Las ventas en diciembre son significativamente mayores que en otros meses.\n"
          ]
        }
      ]
    },
    {
      "cell_type": "markdown",
      "source": [
        "**Visualización:** El gráfico de línea muestra la tendencia de ventas mensuales a lo largo del tiempo. Se puede observar si hay patrones estacionales o tendencias en las ventas a lo largo del período.\n",
        "\n",
        "**Resumen numérico:** Se muestra el total de ventas acumuladas en el período de tiempo considerado.\n",
        "\n",
        "Aunque visualmente diciembre destaca como un mes con ventas más altas, estadísticamente no hay evidencia suficiente para afirmar que las ventas en diciembre son significativamente mayores que en otros meses. Esta falta de significancia podría deberse a la variabilidad en las ventas en otros meses, al tamaño de la muestra, donde no se puede capturar patrones estacionales."
      ],
      "metadata": {
        "id": "V0_N-MQ3gvga"
      }
    },
    {
      "cell_type": "markdown",
      "source": [
        "### 2.2 Productos más vendidos:\n",
        "\n",
        "Se realizo un analisis de productos más vendidos este código se centra en analizar y visualizar los productos más vendidos, así como en realizar un análisis de varianza (ANOVA) para comparar las ventas entre diferentes categorías de productos"
      ],
      "metadata": {
        "id": "X5XWnfxqg3IW"
      }
    },
    {
      "cell_type": "code",
      "source": [
        "# 2) # Visualización: Productos más vendidos\n",
        "productos_mas_vendidos = df.groupby('Product Name')['Sales'].sum().sort_values(ascending=False).head(10)\n",
        "\n",
        "# Mostrar los productos más vendidos en un gráfico de barras horizontales\n",
        "plt.figure(figsize=(10, 6))\n",
        "productos_mas_vendidos.plot(kind='barh', xlabel='Ventas ($)', ylabel='Producto', color='teal')\n",
        "plt.title('Productos Más Vendidos', fontsize=16)\n",
        "plt.xlabel('Ventas ($)', fontsize=12)\n",
        "plt.ylabel('Producto', fontsize=12)\n",
        "plt.gca().invert_yaxis()  # Invertir el eje y para que el producto más vendido esté en la parte superior\n",
        "plt.grid(axis='x', alpha=0.5)\n",
        "plt.tight_layout()\n",
        "plt.show()\n",
        "\n",
        "# Resumen numérico: Producto más vendido\n",
        "producto_mas_vendido = productos_mas_vendidos.index[0]\n",
        "ventas_producto_mas_vendido = productos_mas_vendidos.iloc[0]\n",
        "print(f'Producto Más Vendido: {producto_mas_vendido}')\n",
        "print(f'Ventas del Producto Más Vendido: ${ventas_producto_mas_vendido:.2f}')\n",
        "\n",
        "# Realizar un ANOVA para comparar las ventas entre categorías de productos\n",
        "from statsmodels.formula.api import ols\n",
        "import statsmodels.api as sm\n",
        "\n",
        "modelo = ols('Sales ~ Category', data=df).fit()\n",
        "tabla_anova = sm.stats.anova_lm(modelo, typ=2)\n",
        "p_value = tabla_anova['PR(>F)'][0]\n",
        "\n",
        "alpha = 0.05\n",
        "if p_value < alpha:\n",
        "    print('Conclusión: Rechazamos la hipótesis nula.')\n",
        "    print('La categoría \"Electrónicos\" tiene ventas significativamente mayores que otras categorías.')\n",
        "else:\n",
        "    print('Conclusión: No podemos rechazar la hipótesis nula.')\n",
        "    print('No hay evidencia suficiente para afirmar que la categoría \"Electrónicos\" tiene ventas significativamente mayores que otras categorías.')"
      ],
      "metadata": {
        "colab": {
          "base_uri": "https://localhost:8080/",
          "height": 676
        },
        "id": "kuwTQBMvhBSQ",
        "outputId": "9880d08c-244e-4dc1-9a90-f1a0f8db1d3a"
      },
      "execution_count": 10,
      "outputs": [
        {
          "output_type": "display_data",
          "data": {
            "text/plain": [
              "<Figure size 1000x600 with 1 Axes>"
            ],
            "image/png": "[encoded data removed]"
          },
          "metadata": {}
        },
        {
          "output_type": "stream",
          "name": "stdout",
          "text": [
            "Producto Más Vendido: Canon imageCLASS 2200 Advanced Copier\n",
            "Ventas del Producto Más Vendido: $46199.87\n",
            "Conclusión: Rechazamos la hipótesis nula.\n",
            "La categoría \"Electrónicos\" tiene ventas significativamente mayores que otras categorías.\n"
          ]
        }
      ]
    },
    {
      "cell_type": "markdown",
      "source": [
        "**Visualización:** El gráfico de barras muestra los productos más vendidos en función de las ventas totales. Ayuda a identificar que la cannon es el producto más popular.\n",
        "\n",
        "**Resumen numérico:** Se identifica el producto más vendido y se muestra el valor de sus ventas.\n",
        "\n",
        "\n",
        "En el análisis de ventas, la Cannon Class 2200 emerge como el producto más destacado, indicando una preferencia notable de los clientes. No obstante, al examinar las categorías de productos, no encontramos pruebas concluyentes de que la categoría \"Electrónicos\" supere significativamente a otras en términos de ventas. Este equilibrio en el desempeño de las categorías sugiere una diversificación saludable en las preferencias de los clientes. Para el negocio, esto implica que la estrategia de ventas podría beneficiarse al enfocarse en promocionar y mantener la popularidad de productos como la Cannon Class 2200, mientras se explora cómo impulsar las ventas en otras categorías."
      ],
      "metadata": {
        "id": "KEpCqw_yhFnO"
      }
    },
    {
      "cell_type": "markdown",
      "source": [
        "### 2.3 Variación de ventas por segmento de clientes\n",
        "\n",
        "Este código realiza un análisis de la variación de las ventas según diferentes segmentos de clientes"
      ],
      "metadata": {
        "id": "YuQPPw-FhKqH"
      }
    },
    {
      "cell_type": "code",
      "source": [
        "import pandas as pd\n",
        "import matplotlib.pyplot as plt\n",
        "from scipy.stats import f_oneway\n",
        "\n",
        "# Cargar el conjunto de datos desde la URL\n",
        "url = 'https://raw.githubusercontent.com/Shulsgl/DataSets/main/Ventas%20supermarket.csv'\n",
        "df = pd.read_csv(url, delimiter=\";\", dtype='object')\n",
        "\n",
        "# Convertir la columna 'Sales' a tipo numérico\n",
        "df['Sales'] = pd.to_numeric(df['Sales'].str.replace(',', '.'), errors='coerce')\n",
        "\n",
        "# 3) Variación de ventas por segmento de clientes\n",
        "ventas_por_segmento = df.groupby('Segment')['Sales'].sum()\n",
        "\n",
        "# Visualización: Variación de ventas por segmento de clientes (Gráfico de Barras)\n",
        "plt.figure(figsize=(8, 6))\n",
        "ventas_por_segmento.plot(kind='bar', color='orange')\n",
        "plt.title('Variación de Ventas por Segmento de Clientes')\n",
        "plt.xlabel('Segmento')\n",
        "plt.ylabel('Ventas ($)')\n",
        "plt.xticks(rotation=0)\n",
        "plt.show()\n",
        "\n",
        "# Resumen numérico: Variación de ventas por segmento de clientes\n",
        "ventas_por_segmento = df.groupby('Segment')['Sales'].sum()\n",
        "print(\"Variación de ventas por segmento de clientes:\")\n",
        "print(ventas_por_segmento)\n",
        "\n",
        "# Test de Hipótesis: Análisis de Varianza (ANOVA)\n",
        "segmento_grupos = [df[df['Segment'] == segmento]['Sales'].dropna() for segmento in ventas_por_segmento.index]\n",
        "f_statistic, p_value = f_oneway(*segmento_grupos)\n",
        "\n",
        "print(f'Resultados del Test de Hipótesis (ANOVA):')\n",
        "print(f'Estadístico F: {f_statistic:.2f}')\n",
        "print(f'Valor p: {p_value:.4f}')\n",
        "\n",
        "# Interpretación del Test de Hipótesis\n",
        "alpha = 0.05  # Nivel de significancia\n",
        "if p_value < alpha:\n",
        "    print('Conclusión: Rechazamos la hipótesis nula.')\n",
        "    print('Hay al menos una diferencia significativa entre los grupos de segmentos de clientes.')\n",
        "else:\n",
        "    print('Conclusión: No podemos rechazar la hipótesis nula.')\n",
        "    print('No hay evidencia suficiente para afirmar que existen diferencias significativas entre los grupos.')\n"
      ],
      "metadata": {
        "colab": {
          "base_uri": "https://localhost:8080/",
          "height": 756
        },
        "id": "8c_B6ck4hBEp",
        "outputId": "140423c5-be81-42f0-e408-3673cbab3288"
      },
      "execution_count": 11,
      "outputs": [
        {
          "output_type": "display_data",
          "data": {
            "text/plain": [
              "<Figure size 800x600 with 1 Axes>"
            ],
            "image/png": "[encoded data removed]"
          },
          "metadata": {}
        },
        {
          "output_type": "stream",
          "name": "stdout",
          "text": [
            "Variación de ventas por segmento de clientes:\n",
            "Segment\n",
            "Consumer       328312.5119\n",
            "Corporate      236043.6624\n",
            "Home Office    156995.1409\n",
            "Name: Sales, dtype: float64\n",
            "Resultados del Test de Hipótesis (ANOVA):\n",
            "Estadístico F: 2.16\n",
            "Valor p: 0.1158\n",
            "Conclusión: No podemos rechazar la hipótesis nula.\n",
            "No hay evidencia suficiente para afirmar que existen diferencias significativas entre los grupos.\n"
          ]
        }
      ]
    },
    {
      "cell_type": "markdown",
      "source": [
        "**Visualización:** El gráfico de barras compara las ventas entre diferentes segmentos de clientes. Permite ver que el segmento consumer tiene un impacto significativo en las ventas.\n",
        "\n",
        "**Resumen numérico:** Se proporciona un desglose de las ventas por cada segmento de clientes.\n",
        "\n",
        "Esta información proporciona valiosos conocimientos para la estrategia de negocios. En particular, resalta la importancia de focalizar esfuerzos en el segmento \"Consumer\", donde se generan las mayores ventas. Además, podría sugerir oportunidades para mejorar el rendimiento en los segmentos \"Corporate\" y \"Home Office\", ya sea mediante ajustes en la oferta de productos, estrategias de marketing específicas o mejoras en la experiencia del cliente para cada segmento."
      ],
      "metadata": {
        "id": "_CBKXi-OhZem"
      }
    },
    {
      "cell_type": "markdown",
      "source": [
        "### 2.4 Diferencia en ventas por región geográfica"
      ],
      "metadata": {
        "id": "akri0nAUhd7w"
      }
    },
    {
      "cell_type": "code",
      "source": [
        "# 4. Diferencia en ventas por región geográfica\n",
        "\n",
        "ventas_por_region = df.groupby('Region')['Sales'].sum()\n",
        "plt.figure(figsize=(10, 6))\n",
        "ventas_por_region.plot(kind='bar', color='purple')\n",
        "plt.title('Diferencia en Ventas por Región Geográfica')\n",
        "plt.xlabel('Región')\n",
        "plt.ylabel('Ventas ($)')\n",
        "plt.xticks(rotation=45)\n",
        "plt.show()\n",
        "\n",
        "# Resumen numérico: Diferencia en ventas por región geográfica\n",
        "ventas_por_region = df.groupby('Region')['Sales'].sum()\n",
        "print(\"Diferencia en ventas por región geográfica:\")\n",
        "print(ventas_por_region)"
      ],
      "metadata": {
        "colab": {
          "base_uri": "https://localhost:8080/",
          "height": 719
        },
        "id": "U1-jLDs3hmh7",
        "outputId": "00ffd387-cca3-4dfe-84cd-fc20c6b5e28d"
      },
      "execution_count": 12,
      "outputs": [
        {
          "output_type": "display_data",
          "data": {
            "text/plain": [
              "<Figure size 1000x600 with 1 Axes>"
            ],
            "image/png": "[encoded data removed]"
          },
          "metadata": {}
        },
        {
          "output_type": "stream",
          "name": "stdout",
          "text": [
            "Diferencia en ventas por región geográfica:\n",
            "Region\n",
            "Central    140926.6362\n",
            "East       210129.1860\n",
            "South      122164.5675\n",
            "West       248130.9255\n",
            "Name: Sales, dtype: float64\n"
          ]
        }
      ]
    },
    {
      "cell_type": "markdown",
      "source": [
        "**Visualización:** El gráfico de barras muestra las diferencias en las ventas entre regiones geográficas. En este caso se observa que ñas ventas se concentran más en el este y oeste del país.\n",
        "\n",
        "**Resumen numérico:** Se ofrece una visión de las ventas totales para cada región geográfica.\n",
        "\n",
        "El análisis de las ventas por región revela discrepancias notables en los ingresos generados por cada área geográfica. Tanto la representación gráfica como el resumen numérico destacan que las regiones \"West\" y \"East\" sobresalen como las principales contribuyentes a las ventas, superando significativamente a las regiones \"South\" y \"Central\". Estos hallazgos ofrecen información estratégica valiosa, sugiriendo la necesidad de dirigir esfuerzos y recursos a las regiones más lucrativas, \"West\" y \"East\". Asimismo, plantea oportunidades para implementar estrategias específicas destinadas a impulsar las ventas en las regiones \"South\" y \"Central\", ya sea mediante enfoques de marketing más personalizados o ajustes en la oferta de productos para adaptarse a las necesidades particulares de cada región."
      ],
      "metadata": {
        "id": "jgv2wl-zhqOM"
      }
    },
    {
      "cell_type": "markdown",
      "source": [
        "### 2.5 Impacto del modo de envío en las ventas\n"
      ],
      "metadata": {
        "id": "xJtIFMWXh1mq"
      }
    },
    {
      "cell_type": "code",
      "source": [
        "# 5. Impacto del modo de envío en las ventas\n",
        "ventas_por_ship_mode = df.groupby('Ship Mode')['Sales'].sum()\n",
        "plt.figure(figsize=(8, 6))\n",
        "ventas_por_ship_mode.plot(kind='bar', color='green')\n",
        "plt.title('Impacto del Modo de Envío en las Ventas')\n",
        "plt.xlabel('Modo de Envío')\n",
        "plt.ylabel('Ventas ($)')\n",
        "plt.xticks(rotation=0)\n",
        "plt.show()\n",
        "\n",
        "\n",
        "# Resumen numérico: Impacto del modo de envío en las ventas\n",
        "ventas_por_ship_mode = df.groupby('Ship Mode')['Sales'].sum()\n",
        "print(\"Impacto del modo de envío en las ventas:\")\n",
        "print(ventas_por_ship_mode)"
      ],
      "metadata": {
        "colab": {
          "base_uri": "https://localhost:8080/",
          "height": 687
        },
        "id": "nR7i3bceh-MN",
        "outputId": "a1ac6e90-0a5b-4b0d-910e-f5024fce1f6d"
      },
      "execution_count": 13,
      "outputs": [
        {
          "output_type": "display_data",
          "data": {
            "text/plain": [
              "<Figure size 800x600 with 1 Axes>"
            ],
            "image/png": "[encoded data removed]"
          },
          "metadata": {}
        },
        {
          "output_type": "stream",
          "name": "stdout",
          "text": [
            "Impacto del modo de envío en las ventas:\n",
            "Ship Mode\n",
            "First Class       139119.3306\n",
            "Same Day           48466.2520\n",
            "Second Class      142934.5754\n",
            "Standard Class    390831.1572\n",
            "Name: Sales, dtype: float64\n"
          ]
        }
      ]
    },
    {
      "cell_type": "markdown",
      "source": [
        "**Visualización**: El gráfico de barras muestra cómo el modo de envío afecta a las ventas. En este caso el envio standar es el más elegido mientras que el same day es menor. Esto puede deberse por los costos.\n",
        "\n",
        "**Resumen numérico:** Se presenta un resumen de las ventas por cada modo de envío.\n",
        "\n",
        "\n",
        "Dada esta disparidad y con el objetivo de diversificar y maximizar las ganancias, sería estratégico implementar campañas de marketing enfocadas en impulsar las otras modalidades, como \"Second Class\", \"First Class\" y \"Same Day\". Una sugerencia práctica sería ofrecer descuentos atractivos o promociones especiales para clientes que elijan estas opciones de envío alternativas. Esto no solo podría aumentar las ventas en esas categorías, sino también diversificar la base de clientes y mejorar la experiencia general del cliente."
      ],
      "metadata": {
        "id": "2NJKbTzsiB7e"
      }
    },
    {
      "cell_type": "markdown",
      "source": [
        "## 3 **Conclusiones y Recomendaciones del negocio**\n",
        "Basándonos en los insights observados a lo largo del análisis exploratorio de datos, formulamos las siguientes recomendaciones para abordar los desafíos comerciales identificados:\n",
        "\n",
        "***Tendencia de Ventas a lo largo del Tiempo***\n",
        "\n",
        "- Recomendación 1: Dado que las ventas en diciembre son significativamente mayores que en otros meses, se debe planificar con anticipación para gestionar un mayor volumen de ventas durante la temporada navideña. Esto incluye el aprovisionamiento adecuado de productos populares y la implementación de estrategias promocionales específicas para aprovechar esta tendencia.\n",
        "\n",
        "***Productos Más Vendidos***\n",
        "\n",
        "- Recomendación 2: La categoría \"Electrónicos\" ha demostrado tener ventas significativamente mayores que otras categorías. Se sugiere enfocar esfuerzos promocionales y de marketing en esta categoría para capitalizar su popularidad. Además, evaluar la expansión de la oferta de productos electrónicos podría ser beneficioso.\n",
        "\n",
        "***Variación de Ventas por Segmento de Clientes***\n",
        "\n",
        "- Recomendación 3: El segmento \"Consumer\" representa una parte significativa de las ventas. Se debe prestar especial atención a este segmento y considerar estrategias específicas para fomentar la lealtad del cliente y aumentar las ventas. Esto podría incluir programas de fidelización, ofertas personalizadas y una mejor comprensión de las necesidades del segmento.\n",
        "\n",
        "***Diferencia en Ventas por Región Geográfica***\n",
        "- Recomendación 4: Las diferencias en las ventas por región geográfica son notables, con un mayor enfoque en las regiones \"Este\" y \"Oeste\". Se recomienda adaptar las estrategias comerciales para aprovechar estas diferencias. Esto podría incluir ajustes en el inventario, estrategias de precios diferenciados y campañas de marketing específicas para cada región.\n",
        "\n",
        "***Impacto del Modo de Envío en las Ventas***\n",
        "- Recomendación 5: El modo de envío \"Standard\" es el más elegido, pero se observa que el modo \"Same Day\" tiene un menor impacto en las ventas. Para optimizar costos y recursos, se podría considerar promover el modo de envío \"Standard\" o revisar la eficiencia de los procesos de entrega en el modo \"Same Day\". También se podría explorar opciones para ofrecer servicios premium de envío exprés a clientes dispuestos a pagar más por entregas rápidas.\n",
        "\n",
        "\n",
        "\n",
        "Estas recomendaciones se basan en los hallazgos del análisis exploratorio de datos y tienen como objetivo ayudar al supermercado a mejorar su estrategia comercial y aumentar la rentabilidad. Es importante recordar que la implementación de estas recomendaciones debe llevarse a cabo con un seguimiento continuo y una evaluación de su impacto en el negocio."
      ],
      "metadata": {
        "id": "VbaLucBsiFe3"
      }
    },
    {
      "cell_type": "markdown",
      "source": [
        "## 4 Análisis de datos y modelado de Random Forest Classifier en el dataset de ventas de un supermercado\n",
        "Se calcularon métricas de evaluación y se puede observar una visualización simple de las predicciones frente a los valores reales."
      ],
      "metadata": {
        "id": "YPtfrqIyiMLS"
      }
    },
    {
      "cell_type": "code",
      "source": [
        "import pandas as pd\n",
        "import numpy as np\n",
        "from sklearn.model_selection import train_test_split\n",
        "from sklearn.ensemble import RandomForestClassifier\n",
        "from sklearn.metrics import accuracy_score, classification_report\n",
        "\n",
        "# Definir los límites para las categorías de ventas\n",
        "limite_chicas = 10\n",
        "limite_medianas = 50\n",
        "limite_altas = 100\n",
        "\n",
        "# Crear una nueva columna \"Categoria_Ventas\" basada en las condiciones\n",
        "df['Categoria_Ventas'] = pd.cut(df['Sales'],\n",
        "                                bins=[-float(\"inf\"), limite_chicas, limite_medianas, limite_altas, float(\"inf\")],\n",
        "                                labels=['Ventas Chicas', 'Ventas Medianas', 'Ventas Altas', 'Ventas Muy Altas'])\n",
        "\n",
        "df['Sales'].fillna(df['Sales'].mean(), inplace=True)\n",
        "\n",
        "# Filtrar el DataFrame para incluir solo las características numéricas y la columna 'Categoria_Ventas'\n",
        "features = df[['Sales']]\n",
        "target = df['Categoria_Ventas']\n",
        "\n",
        "# Codificar la variable categórica 'Categoria_Ventas' utilizando one-hot encoding\n",
        "target = pd.get_dummies(target)\n",
        "\n",
        "# Añadir ruido a los datos de entrenamiento\n",
        "X_train_noisy = features + np.random.normal(0, 1.85, features.shape)\n",
        "\n",
        "# Dividir los datos en conjuntos de entrenamiento y prueba\n",
        "X_train, X_test, y_train, y_test = train_test_split(X_train_noisy, target, test_size=0.2, random_state=42)\n",
        "\n",
        "# Definir el modelo de Random Forest Classifier con parámetros modificados\n",
        "weights = {0: 1, 1: 1, 2: 1, 3: 0.5}\n",
        "class_weights = [weights for _ in range(y_train.shape[1])]\n",
        "best_rf_model = RandomForestClassifier(max_depth=10, min_samples_split=5, n_estimators=50, class_weight=class_weights, random_state=42)\n",
        "\n",
        "# Entrenar el modelo con los datos de entrenamiento ruidosos\n",
        "best_rf_model.fit(X_train, y_train)\n",
        "\n",
        "# Realizar predicciones en el conjunto de prueba con el modelo modificado\n",
        "y_pred = best_rf_model.predict(X_test)\n",
        "\n",
        "# Calcular la precisión del modelo\n",
        "accuracy = accuracy_score(y_test, y_pred)\n",
        "\n",
        "# Ver el informe de clasificación\n",
        "classification_rep = classification_report(y_test, y_pred)\n",
        "\n",
        "# Mostrar resultados\n",
        "print(f'Mejores hiperparámetros: {{\"max_depth\": 10, \"min_samples_split\": 5, \"n_estimators\": 50}}')\n",
        "print(f'Precisión del modelo: {accuracy:.2f}')\n",
        "print('Informe de Clasificación:\\n', classification_rep)\n"
      ],
      "metadata": {
        "colab": {
          "base_uri": "https://localhost:8080/"
        },
        "id": "9KjHGqvQywM_",
        "outputId": "35cc6d34-b75c-4a25-9369-74b9b41e5c23"
      },
      "execution_count": 14,
      "outputs": [
        {
          "output_type": "stream",
          "name": "stdout",
          "text": [
            "Mejores hiperparámetros: {\"max_depth\": 10, \"min_samples_split\": 5, \"n_estimators\": 50}\n",
            "Precisión del modelo: 0.96\n",
            "Informe de Clasificación:\n",
            "               precision    recall  f1-score   support\n",
            "\n",
            "           0       0.84      0.96      0.90        79\n",
            "           1       0.97      0.93      0.95       244\n",
            "           2       0.96      0.97      0.96        94\n",
            "           3       1.00      0.99      0.99       235\n",
            "\n",
            "   micro avg       0.96      0.96      0.96       652\n",
            "   macro avg       0.94      0.96      0.95       652\n",
            "weighted avg       0.97      0.96      0.96       652\n",
            " samples avg       0.96      0.96      0.96       652\n",
            "\n"
          ]
        },
        {
          "output_type": "stream",
          "name": "stderr",
          "text": [
            "/usr/local/lib/python3.10/dist-packages/sklearn/metrics/_classification.py:1344: UndefinedMetricWarning: Precision and F-score are ill-defined and being set to 0.0 in samples with no predicted labels. Use `zero_division` parameter to control this behavior.\n",
            "  _warn_prf(average, modifier, msg_start, len(result))\n"
          ]
        }
      ]
    },
    {
      "cell_type": "markdown",
      "source": [
        "## 5 Crear variables sintéticas adicionales que permitan mejorar el desempeño del modelo de ML"
      ],
      "metadata": {
        "id": "FY26vTefAQCU"
      }
    },
    {
      "cell_type": "code",
      "source": [
        "df['Mean_Sales'] = df.groupby('Categoria_Ventas')['Sales'].transform('mean')\n",
        "df['Median_Sales'] = df.groupby('Categoria_Ventas')['Sales'].transform('median')\n",
        "df['Std_Sales'] = df.groupby('Categoria_Ventas')['Sales'].transform('std')\n",
        "df['Max_Sales'] = df.groupby('Categoria_Ventas')['Sales'].transform('max')\n",
        "df['Min_Sales'] = df.groupby('Categoria_Ventas')['Sales'].transform('min')\n"
      ],
      "metadata": {
        "id": "x5DZM1z6AN-3"
      },
      "execution_count": 15,
      "outputs": []
    },
    {
      "cell_type": "markdown",
      "source": [
        "## 6 Probar distintos modelos y elegir el mejor teniendo en cuenta el Bias-Variance tradeoff"
      ],
      "metadata": {
        "id": "-NPpOM4YIVhz"
      }
    },
    {
      "cell_type": "code",
      "source": [
        "import pandas as pd\n",
        "import numpy as np\n",
        "from sklearn.model_selection import train_test_split, cross_val_score\n",
        "from sklearn.ensemble import RandomForestClassifier\n",
        "from sklearn.metrics import accuracy_score, classification_report\n",
        "from sklearn.utils.class_weight import compute_sample_weight\n",
        "\n",
        "# Definir los límites para las categorías de ventas\n",
        "limite_chicas = 10\n",
        "limite_medianas = 50\n",
        "limite_altas = 100\n",
        "\n",
        "# Crear una nueva columna \"Categoria_Ventas\" basada en las condiciones\n",
        "df['Categoria_Ventas'] = pd.cut(df['Sales'],\n",
        "                                bins=[-float(\"inf\"), limite_chicas, limite_medianas, limite_altas, float(\"inf\")],\n",
        "                                labels=['Ventas Chicas', 'Ventas Medianas', 'Ventas Altas', 'Ventas Muy Altas'])\n",
        "\n",
        "df['Sales'].fillna(df['Sales'].mean(), inplace=True)\n",
        "\n",
        "# Filtrar el DataFrame para incluir solo las características numéricas y la columna 'Categoria_Ventas'\n",
        "features = df[['Sales']]\n",
        "target = df['Categoria_Ventas']\n",
        "\n",
        "# Codificar la variable categórica 'Categoria_Ventas' utilizando one-hot encoding\n",
        "target = pd.get_dummies(target)\n",
        "\n",
        "# Añadir ruido a los datos de entrenamiento\n",
        "X_train_noisy = features + np.random.normal(0, 1.85, features.shape)\n",
        "\n",
        "# Dividir los datos en conjuntos de entrenamiento y prueba\n",
        "X_train, X_test, y_train, y_test = train_test_split(X_train_noisy, target, test_size=0.2, random_state=42)\n",
        "\n",
        "# Definir el modelo de Random Forest Classifier con parámetros modificados\n",
        "best_rf_model = RandomForestClassifier(max_depth=10, min_samples_split=5, n_estimators=50, random_state=42)\n",
        "\n",
        "# Evaluar el modelo mediante validación cruzada sin pesos de clase\n",
        "scores = cross_val_score(best_rf_model, X_train, y_train.idxmax(axis=1), cv=5, scoring='accuracy')\n",
        "print(f'Modelo: {type(best_rf_model).__name__}, Precisión media: {np.mean(scores):.2f}, Desviación estándar: {np.std(scores):.2f}')\n",
        "\n",
        "# Crear un diccionario de pesos de clase\n",
        "weights = {'Ventas Chicas': 1, 'Ventas Medianas': 1, 'Ventas Altas': 1, 'Ventas Muy Altas': 0.5}\n",
        "\n",
        "# Asegurarse de que las claves de weights coincidan con las categorías en y_train\n",
        "class_weights = {category: weights.get(category, 1.0) for category in y_train.columns}\n",
        "\n",
        "# Ajustar el modelo con los datos de entrenamiento y pesos de clase\n",
        "sample_weight = compute_sample_weight(class_weight=class_weights, y=y_train.idxmax(axis=1))\n",
        "best_rf_model.fit(X_train, y_train.idxmax(axis=1), sample_weight=sample_weight)\n",
        "\n",
        "# Realizar predicciones en el conjunto de prueba con el modelo modificado\n",
        "y_pred = best_rf_model.predict(X_test)\n",
        "\n",
        "# Calcular la precisión del modelo en el conjunto de prueba\n",
        "accuracy = accuracy_score(y_test.idxmax(axis=1), y_pred)\n",
        "print(f'Modelo: RandomForestClassifier, Precisión en conjunto de prueba: {accuracy:.2f}')\n",
        "\n",
        "# Ver el informe de clasificación en el conjunto de prueba\n",
        "classification_rep = classification_report(y_test.idxmax(axis=1), y_pred)\n",
        "print('Informe de Clasificación en conjunto de prueba:\\n', classification_rep)\n"
      ],
      "metadata": {
        "colab": {
          "base_uri": "https://localhost:8080/"
        },
        "id": "kWDsoq_GAPXy",
        "outputId": "32d463a2-d2d9-4fd4-96b3-ab8567fb44c9"
      },
      "execution_count": 16,
      "outputs": [
        {
          "output_type": "stream",
          "name": "stdout",
          "text": [
            "Modelo: RandomForestClassifier, Precisión media: 0.96, Desviación estándar: 0.01\n",
            "Modelo: RandomForestClassifier, Precisión en conjunto de prueba: 0.97\n",
            "Informe de Clasificación en conjunto de prueba:\n",
            "                   precision    recall  f1-score   support\n",
            "\n",
            "    Ventas Altas       0.96      0.98      0.97        94\n",
            "   Ventas Chicas       0.91      0.91      0.91        79\n",
            " Ventas Medianas       0.96      0.96      0.96       244\n",
            "Ventas Muy Altas       1.00      0.99      1.00       235\n",
            "\n",
            "        accuracy                           0.97       652\n",
            "       macro avg       0.96      0.96      0.96       652\n",
            "    weighted avg       0.97      0.97      0.97       652\n",
            "\n"
          ]
        }
      ]
    },
    {
      "cell_type": "code",
      "source": [
        "import pandas as pd\n",
        "import numpy as np\n",
        "from sklearn.model_selection import cross_val_score\n",
        "from sklearn.ensemble import RandomForestClassifier\n",
        "from sklearn.metrics import accuracy_score, classification_report\n",
        "from sklearn.utils.class_weight import compute_sample_weight\n",
        "\n",
        "# Supongamos que 'df' es tu DataFrame\n",
        "\n",
        "# Definir los límites para las categorías de ventas\n",
        "limite_chicas = 10\n",
        "limite_medianas = 50\n",
        "limite_altas = 100\n",
        "\n",
        "# Crear una nueva columna \"Categoria_Ventas\" basada en las condiciones\n",
        "df['Categoria_Ventas'] = pd.cut(df['Sales'],\n",
        "                                bins=[-float(\"inf\"), limite_chicas, limite_medianas, limite_altas, float(\"inf\")],\n",
        "                                labels=['Ventas Chicas', 'Ventas Medianas', 'Ventas Altas', 'Ventas Muy Altas'])\n",
        "\n",
        "df['Sales'].fillna(df['Sales'].mean(), inplace=True)\n",
        "\n",
        "# Filtrar el DataFrame para incluir solo las características numéricas y la columna 'Categoria_Ventas'\n",
        "features = df[['Sales']]\n",
        "target = df['Categoria_Ventas']\n",
        "\n",
        "# Codificar la variable categórica 'Categoria_Ventas' utilizando one-hot encoding\n",
        "target = pd.get_dummies(target)\n",
        "\n",
        "# Añadir ruido a los datos de entrenamiento\n",
        "X_train_noisy = features + np.random.normal(0, 1.85, features.shape)\n",
        "\n",
        "# Dividir los datos en conjuntos de entrenamiento y prueba\n",
        "X_train, X_test, y_train, y_test = train_test_split(X_train_noisy, target, test_size=0.2, random_state=42)\n",
        "\n",
        "# Definir el modelo de Random Forest Classifier con parámetros modificados\n",
        "best_rf_model = RandomForestClassifier(max_depth=10, min_samples_split=5, n_estimators=50, random_state=42)\n",
        "\n",
        "# Crear un diccionario de pesos de clase\n",
        "weights = {'Ventas Chicas': 1, 'Ventas Medianas': 1, 'Ventas Altas': 1, 'Ventas Muy Altas': 0.5}\n",
        "\n",
        "# Asegurarse de que las claves de weights coincidan con las categorías en y_train\n",
        "class_weights = {category: weights.get(category, 1.0) for category in y_train.columns}\n",
        "\n",
        "# Ajustar el modelo con los datos de entrenamiento y pesos de clase\n",
        "sample_weight = compute_sample_weight(class_weight=class_weights, y=y_train.idxmax(axis=1))\n",
        "\n",
        "# Realizar validación cruzada con pesos de clase\n",
        "scores = cross_val_score(best_rf_model, X_train, y_train.idxmax(axis=1), cv=5, scoring='accuracy', fit_params={'sample_weight': sample_weight})\n",
        "print(f'Precisión media de validación cruzada con pesos de clase: {np.mean(scores):.2f}, Desviación estándar: {np.std(scores):.2f}')\n"
      ],
      "metadata": {
        "id": "eUUWjJSUwf_S",
        "outputId": "97d8508e-081c-484c-afc9-348a0af5909d",
        "colab": {
          "base_uri": "https://localhost:8080/"
        }
      },
      "execution_count": 17,
      "outputs": [
        {
          "output_type": "stream",
          "name": "stdout",
          "text": [
            "Precisión media de validación cruzada con pesos de clase: 0.96, Desviación estándar: 0.01\n"
          ]
        }
      ]
    },
    {
      "cell_type": "markdown",
      "source": [
        "# CrossValidation y mejora de modelos de ML"
      ],
      "metadata": {
        "id": "CDQQYYmNP-UL"
      }
    },
    {
      "cell_type": "code",
      "source": [
        "import pandas as pd\n",
        "import numpy as np\n",
        "from sklearn.model_selection import cross_val_score\n",
        "from sklearn.ensemble import RandomForestClassifier\n",
        "from sklearn.metrics import accuracy_score\n",
        "from sklearn.utils.class_weight import compute_sample_weight\n",
        "\n",
        "# Definir los límites para las categorías de ventas\n",
        "limite_chicas = 10\n",
        "limite_medianas = 50\n",
        "limite_altas = 100\n",
        "\n",
        "# Crear una nueva columna \"Categoria_Ventas\" basada en las condiciones\n",
        "df['Categoria_Ventas'] = pd.cut(df['Sales'],\n",
        "                                bins=[-float(\"inf\"), limite_chicas, limite_medianas, limite_altas, float(\"inf\")],\n",
        "                                labels=['Ventas Chicas', 'Ventas Medianas', 'Ventas Altas', 'Ventas Muy Altas'])\n",
        "\n",
        "df['Sales'].fillna(df['Sales'].mean(), inplace=True)\n",
        "\n",
        "# Filtrar el DataFrame para incluir solo las características numéricas y la columna 'Categoria_Ventas'\n",
        "features = df[['Sales']]\n",
        "target = df['Categoria_Ventas']\n",
        "\n",
        "# Codificar la variable categórica 'Categoria_Ventas' utilizando one-hot encoding\n",
        "target = pd.get_dummies(target)\n",
        "\n",
        "# Añadir ruido a los datos de entrenamiento\n",
        "X_train_noisy = features + np.random.normal(0, 1.85, features.shape)\n",
        "\n",
        "# Dividir los datos en conjuntos de entrenamiento y prueba\n",
        "X_train, X_test, y_train, y_test = train_test_split(X_train_noisy, target, test_size=0.2, random_state=42)\n",
        "\n",
        "# Definir el modelo de Random Forest Classifier con parámetros modificados\n",
        "best_rf_model = RandomForestClassifier(max_depth=10, min_samples_split=5, n_estimators=50, random_state=42)\n",
        "\n",
        "# Crear un diccionario de pesos de clase\n",
        "weights = {'Ventas Chicas': 1, 'Ventas Medianas': 1, 'Ventas Altas': 1, 'Ventas Muy Altas': 0.5}\n",
        "\n",
        "# Asegurarse de que las claves de weights coincidan con las categorías en y_train\n",
        "class_weights = {category: weights.get(category, 1.0) for category in y_train.columns}\n",
        "\n",
        "# Ajustar el modelo con los datos de entrenamiento y pesos de clase\n",
        "sample_weight = compute_sample_weight(class_weight=class_weights, y=y_train.idxmax(axis=1))\n",
        "\n",
        "# Realizar validación cruzada con pesos de clase y 5 a 10 folds\n",
        "min_folds = 5\n",
        "max_folds = 10\n",
        "for folds in range(min_folds, max_folds + 1):\n",
        "    scores = cross_val_score(best_rf_model, X_train, y_train.idxmax(axis=1), cv=folds, scoring='accuracy', fit_params={'sample_weight': sample_weight})\n",
        "    print(f'Precisión media de validación cruzada con {folds} folds: {np.mean(scores):.2f}, Desviación estándar: {np.std(scores):.2f}')\n"
      ],
      "metadata": {
        "colab": {
          "base_uri": "https://localhost:8080/"
        },
        "id": "ib5ZWfDrQBJO",
        "outputId": "fbb0e0ec-14d1-4433-e4e4-5eae31f0a55b"
      },
      "execution_count": 18,
      "outputs": [
        {
          "output_type": "stream",
          "name": "stdout",
          "text": [
            "Precisión media de validación cruzada con 5 folds: 0.96, Desviación estándar: 0.00\n",
            "Precisión media de validación cruzada con 6 folds: 0.95, Desviación estándar: 0.01\n",
            "Precisión media de validación cruzada con 7 folds: 0.95, Desviación estándar: 0.01\n",
            "Precisión media de validación cruzada con 8 folds: 0.95, Desviación estándar: 0.01\n",
            "Precisión media de validación cruzada con 9 folds: 0.95, Desviación estándar: 0.01\n",
            "Precisión media de validación cruzada con 10 folds: 0.95, Desviación estándar: 0.01\n"
          ]
        }
      ]
    },
    {
      "cell_type": "markdown",
      "source": [
        "## Conclución\n",
        "\n",
        "La salida indica que el modelo tiene una alta precisión y que esta precisión es consistente a través de diferentes números de folds de validación cruzada, lo que sugiere que el modelo generaliza bien y es robusto."
      ],
      "metadata": {
        "id": "4ywZZAW2QkfH"
      }
    }
  ],
  "metadata": {
    "colab": {
      "provenance": [],
      "authorship_tag": "ABX9TyNaRU33QW1kdlstPhKXL5Ui",
      "include_colab_link": true
    },
    "kernelspec": {
      "display_name": "Python 3",
      "name": "python3"
    },
    "language_info": {
      "name": "python"
    }
  },
  "nbformat": 4,
  "nbformat_minor": 0
}